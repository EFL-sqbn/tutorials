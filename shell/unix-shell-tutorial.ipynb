{
 "cells": [
  {
   "cell_type": "markdown",
   "metadata": {},
   "source": [
    "Navigating Files and Directories"
   ]
  },
  {
   "cell_type": "markdown",
   "metadata": {},
   "source": [
    "Exploring More ls Flags\n",
    "You can also use two options at the same time. What does the command ls do when used with the -l option? What about if you use both the -l and the -h option?"
   ]
  },
  {
   "cell_type": "code",
   "execution_count": 33,
   "metadata": {},
   "outputs": [
    {
     "name": "stdout",
     "output_type": "stream",
     "text": [
      "total 120\n",
      "-rw-r--r--     1 ericfranklee  staff   153B  4  2 08:19 =\n",
      "drwx------     7 ericfranklee  staff   224B  3 31 16:42 Applications\n",
      "drwx------@    5 ericfranklee  staff   160B  3 23 17:29 Applications (Parallels)\n",
      "drwx------+   73 ericfranklee  staff   2.3K  4  3 07:49 Desktop\n",
      "drwx------+   41 ericfranklee  staff   1.3K  4  2 21:00 Documents\n",
      "drwx------+ 1027 ericfranklee  staff    32K  4  3 08:28 Downloads\n",
      "drwx------@   78 ericfranklee  staff   2.4K  7  2  2019 Library\n",
      "drwx------+   10 ericfranklee  staff   320B  1 25 19:01 Movies\n",
      "drwx------+   11 ericfranklee  staff   352B  1 25 19:01 Music\n",
      "drwx------     4 ericfranklee  staff   128B 11  5  2018 Parallels\n",
      "drwx------+   14 ericfranklee  staff   448B  1 25 19:01 Pictures\n",
      "drwxr-xr-x+    5 ericfranklee  staff   160B  1 13  2019 Public\n",
      "drwxr-xr-x     5 ericfranklee  staff   160B  1 13  2019 Shuffleboard\n",
      "-rw-r--r--     1 ericfranklee  staff    72B  3 18 10:36 Untitled.ipynb\n",
      "-rw-r--r--     1 ericfranklee  staff    72B  3 31 08:03 Untitled1.ipynb\n",
      "-rw-r--r--     1 ericfranklee  staff    72B  4  2 08:18 Untitled2.ipynb\n",
      "-rw-r--r--     1 ericfranklee  staff   8.2K  4  3 09:24 Untitled3.ipynb\n",
      "drwxr-xr-x     2 ericfranklee  staff    64B  9  5  2018 enthought\n",
      "drwxr-xr-x     4 ericfranklee  staff   128B  1 13  2019 ericfranklee\n",
      "drwxr-xr-x     3 ericfranklee  staff    96B  2 27 22:16 frc2019\n",
      "drwxr-xr-x     8 ericfranklee  staff   256B  6 30  2019 mblock\n",
      "drwxr-xr-x     4 ericfranklee  staff   128B  6 30  2019 mblock5\n",
      "-rw-r--r--     1 ericfranklee  staff    18K  3 31 11:07 python-tutorial.ipynb\n",
      "-rw-r--r--     1 ericfranklee  staff   4.9K  3 18 20:04 sss.ipynb\n",
      "-rw-r--r--     1 ericfranklee  staff   2.3K  3 18 20:10 yikai-li--pioneer-ml-prereq-exam.ipynb\n"
     ]
    }
   ],
   "source": [
    "%%bash\n",
    "ls -l -h"
   ]
  },
  {
   "cell_type": "markdown",
   "metadata": {},
   "source": [
    "Working With Files and Directories"
   ]
  },
  {
   "cell_type": "markdown",
   "metadata": {},
   "source": [
    "Organizing Directories and Files\n",
    "Jamie is working on a project and she sees that her files aren’t very well organized:\n",
    "$ ls -F\n",
    "analyzed/  fructose.dat    raw/   sucrose.dat\n",
    "The fructose.dat and sucrose.dat files contain output from her data analysis. What command(s) covered in this lesson does she need to run so that the commands below will produce the output shown?\n",
    "$ ls -F\n",
    "analyzed/   raw/\n",
    "$ ls analyzed\n",
    "fructose.dat    sucrose.dat"
   ]
  },
  {
   "cell_type": "code",
   "execution_count": 29,
   "metadata": {},
   "outputs": [
    {
     "name": "stdout",
     "output_type": "stream",
     "text": [
      "usage: mv [-f | -i | -n] [-v] source target\r\n",
      "       mv [-f | -i | -n] [-v] source ... directory\r\n"
     ]
    }
   ],
   "source": [
    "mv fructose.dat sucrose.dat analyzed"
   ]
  },
  {
   "cell_type": "markdown",
   "metadata": {},
   "source": [
    "Loops"
   ]
  },
  {
   "cell_type": "markdown",
   "metadata": {},
   "source": [
    "Doing a Dry Run\n",
    "A loop is a way to do many things at once — or to make many mistakes at once if it does the wrong thing. One way to check what a loop would do is to echo the commands it would run instead of actually running them.\n",
    "Suppose we want to preview the commands the following loop will execute without actually running those commands:"
   ]
  },
  {
   "cell_type": "code",
   "execution_count": null,
   "metadata": {},
   "outputs": [],
   "source": [
    "%%bash\n",
    "$ for datafile in *.pdb\n",
    "> do\n",
    ">   cat $datafile >> all.pdb\n",
    "> done"
   ]
  },
  {
   "cell_type": "markdown",
   "metadata": {},
   "source": [
    "What is the difference between the two loops below, and which one would we want to run?"
   ]
  },
  {
   "cell_type": "code",
   "execution_count": null,
   "metadata": {},
   "outputs": [],
   "source": [
    "%%bash\n",
    "# Version 1\n",
    "$ for datafile in *.pdb\n",
    "> do\n",
    ">   echo cat $datafile >> all.pdb\n",
    "> done"
   ]
  },
  {
   "cell_type": "code",
   "execution_count": null,
   "metadata": {},
   "outputs": [],
   "source": [
    "%%bash\n",
    "# Version 2\n",
    "$ for datafile in *.pdb\n",
    "> do\n",
    ">   echo \"cat $datafile >> all.pdb\"\n",
    "> done"
   ]
  },
  {
   "cell_type": "markdown",
   "metadata": {},
   "source": [
    "The second one is the one wwe want to run. echo cat $datafile >> all.pdb will not print the full commands of the loop"
   ]
  },
  {
   "cell_type": "markdown",
   "metadata": {},
   "source": [
    "Shell Scripts"
   ]
  },
  {
   "cell_type": "markdown",
   "metadata": {},
   "source": [
    "Find the Longest File With a Given Extension\n",
    "Write a shell script called longest.sh that takes the name of a directory and a filename extension as its arguments, and prints out the name of the file with the most lines in that directory with that extension. For example:\n",
    "$ bash longest.sh /tmp/data pdb\n",
    "would print the name of the .pdb file in /tmp/data that has the most lines."
   ]
  },
  {
   "cell_type": "code",
   "execution_count": null,
   "metadata": {},
   "outputs": [],
   "source": [
    "%%bash\n",
    "# Shell script which takes two arguments:\n",
    "#    1. a directory name\n",
    "#    2. a file extension\n",
    "# and prints the name of the file in that directory\n",
    "# with the most lines which matches the file extension.\n",
    "\n",
    "wc -l $1/*.$2 | sort -n | tail -n 2 | head -n 1"
   ]
  },
  {
   "cell_type": "markdown",
   "metadata": {},
   "source": [
    "Finding Things"
   ]
  },
  {
   "cell_type": "markdown",
   "metadata": {},
   "source": [
    "Tracking a Species\n",
    "\n",
    "Leah has several hundred data files saved in one directory, each of which is formatted like this:\n",
    "2013-11-05,deer,5\n",
    "2013-11-05,rabbit,22\n",
    "2013-11-05,raccoon,7\n",
    "2013-11-06,rabbit,19\n",
    "2013-11-06,deer,2\n",
    "She wants to write a shell script that takes a species as the first command-line argument and a directory as the second argument. The script should return one file called species.txt containing a list of dates and the number of that species seen on each date. For example using the data shown above, rabbit.txt would contain:\n",
    "2013-11-05,22\n",
    "2013-11-06,19\n",
    "Put these commands and pipes in the right order to achieve this:\n",
    "cut -d : -f 2\n",
    ">\n",
    "|\n",
    "grep -w $1 -r $2\n",
    "|\n",
    "$1.txt\n",
    "cut -d , -f 1,3\n",
    "Hint: use man grep to look for how to grep text recursively in a directory and man cut to select more than one field in a line.\n",
    "An example of such a file is provided in data-shell/data/animal-counts/animals.txt"
   ]
  },
  {
   "cell_type": "code",
   "execution_count": null,
   "metadata": {},
   "outputs": [],
   "source": [
    "%%bash\n",
    "grep -w $1 -r $2 | cut -d : -f 2 | cut -d , -f 1,3  > $1.txt"
   ]
  },
  {
   "cell_type": "markdown",
   "metadata": {},
   "source": [
    "Finding Things"
   ]
  },
  {
   "cell_type": "markdown",
   "metadata": {},
   "source": [
    "Finding Files With Different Properties\n",
    "\n",
    "The find command can be given several other criteria known as “tests” to locate files with specific attributes, such as creation time, size, permissions, or ownership. Use man find to explore these, and then write a single command to find all files in or below the current directory that are owned by the user ahmed and were modified in the last 24 hours.\n",
    "Hint 1: you will need to use three tests: -type, -mtime, and -user.\n",
    "Hint 2: The value for -mtime will need to be negative—why?"
   ]
  },
  {
   "cell_type": "code",
   "execution_count": null,
   "metadata": {},
   "outputs": [],
   "source": [
    "find ./ -type f -mtime -1 -user ahmed"
   ]
  }
 ],
 "metadata": {
  "kernelspec": {
   "display_name": "Python 3",
   "language": "python",
   "name": "python3"
  },
  "language_info": {
   "codemirror_mode": {
    "name": "ipython",
    "version": 3
   },
   "file_extension": ".py",
   "mimetype": "text/x-python",
   "name": "python",
   "nbconvert_exporter": "python",
   "pygments_lexer": "ipython3",
   "version": "3.6.5"
  }
 },
 "nbformat": 4,
 "nbformat_minor": 2
}
